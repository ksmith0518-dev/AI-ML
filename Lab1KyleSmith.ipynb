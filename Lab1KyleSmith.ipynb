{
 "cells": [
  {
   "cell_type": "code",
   "execution_count": 55,
   "id": "8e1a0412",
   "metadata": {},
   "outputs": [],
   "source": [
    "import tensorflow as tf\n",
    "import numpy as np\n",
    "import matplotlib.pyplot as plt\n",
    "import os\n",
    "os.environ['KMP_DUPLICATE_OK'] = 'True'"
   ]
  },
  {
   "cell_type": "code",
   "execution_count": 14,
   "id": "15491f6d",
   "metadata": {},
   "outputs": [
    {
     "data": {
      "text/plain": [
       "'2.10.0'"
      ]
     },
     "execution_count": 14,
     "metadata": {},
     "output_type": "execute_result"
    }
   ],
   "source": [
    "tf.__version__"
   ]
  },
  {
   "cell_type": "code",
   "execution_count": 60,
   "id": "1ee96e97",
   "metadata": {
    "scrolled": false
   },
   "outputs": [
    {
     "name": "stdout",
     "output_type": "stream",
     "text": [
      "W = [10.221252]\n",
      "b = [1.3376045]\n",
      "    0 |     8.1343 |     0.7636 |  990.162598\n",
      "  100 |     1.3172 |    -0.7843 |   0.112716\n",
      "  200 |     1.2548 |    -0.5590 |   0.057256\n",
      "  300 |     1.2103 |    -0.3984 |   0.029084\n",
      "  400 |     1.1786 |    -0.2839 |   0.014774\n",
      "  500 |     1.1561 |    -0.2024 |   0.007505\n",
      "  600 |     1.1399 |    -0.1442 |   0.003812\n",
      "  700 |     1.1285 |    -0.1028 |   0.001936\n",
      "  800 |     1.1203 |    -0.0733 |   0.000984\n",
      "  900 |     1.1145 |    -0.0522 |   0.000500\n",
      " 1000 |     1.1103 |    -0.0372 |   0.000254\n",
      " 1100 |     1.1073 |    -0.0265 |   0.000129\n",
      " 1200 |     1.1052 |    -0.0189 |   0.000065\n",
      " 1300 |     1.1037 |    -0.0135 |   0.000033\n",
      " 1400 |     1.1027 |    -0.0096 |   0.000017\n",
      " 1500 |     1.1019 |    -0.0068 |   0.000009\n",
      " 1600 |     1.1014 |    -0.0049 |   0.000004\n",
      " 1700 |     1.1010 |    -0.0035 |   0.000002\n",
      " 1800 |     1.1007 |    -0.0025 |   0.000001\n",
      " 1900 |     1.1005 |    -0.0018 |   0.000001\n",
      " 2000 |     1.1003 |    -0.0013 |   0.000000\n"
     ]
    },
    {
     "data": {
      "text/plain": [
       "[<matplotlib.lines.Line2D at 0x22d7d329808>]"
      ]
     },
     "execution_count": 60,
     "metadata": {},
     "output_type": "execute_result"
    },
    {
     "data": {
      "image/png": "[encoded data removed]",
      "text/plain": [
       "<Figure size 640x480 with 1 Axes>"
      ]
     },
     "metadata": {},
     "output_type": "display_data"
    }
   ],
   "source": [
    "#Problem 1 \n",
    "\n",
    "tf.random.set_seed(0)\n",
    "\n",
    "x_data = [1, 2, 3, 4, 5]\n",
    "y_data = [1.1, 2.2, 3.3, 4.4, 5.5]\n",
    "\n",
    "W = tf.Variable(tf.random.normal((1,),-20., 20)) \n",
    "print('W =', W.numpy())\n",
    "b = tf.Variable(tf.random.normal((1,),-20., 20)) \n",
    "print('b =', b.numpy())\n",
    "learning_rate = 0.01\n",
    "\n",
    "def predict(x,w):\n",
    "    return ((x*W) + b)\n",
    "\n",
    "for i in range(2100):\n",
    "    with tf.GradientTape() as tape: \n",
    "        hypothesis = W * x_data + b\n",
    "        cost = tf.reduce_mean(tf.square(hypothesis - y_data))\n",
    "        \n",
    "    W_grad, b_grad = tape.gradient(cost, [W, b]) \n",
    "    W.assign_sub(learning_rate * W_grad)     \n",
    "    b.assign_sub(learning_rate * b_grad)   \n",
    "    if i % 100 == 0: \n",
    "        print(\"{:5} | {:10.4f} | {:10.4f} | {: 10.6f}\".format(i, W.numpy()[0], b.numpy()[0], cost)) \n",
    "        \n",
    "\n",
    "\n",
    "plt.plot(x_data, y_data, 'o')\n",
    "plt.plot(x_data, hypothesis, 'r-')\n"
   ]
  },
  {
   "cell_type": "code",
   "execution_count": 61,
   "id": "00b6c517",
   "metadata": {
    "scrolled": true
   },
   "outputs": [
    {
     "name": "stdout",
     "output_type": "stream",
     "text": [
      "tf.Tensor([6.600597], shape=(1,), dtype=float32)\n",
      "tf.Tensor([4.9502225], shape=(1,), dtype=float32)\n",
      "tf.Tensor([1.6494735 6.0504723 8.250971 ], shape=(3,), dtype=float32)\n",
      "tf.Tensor([1.0993488 2.1995983 3.2998478 4.400098  5.5003476], shape=(5,), dtype=float32)\n",
      "accuracy [ 99.940796  99.981735  99.99539  100.00222  100.00632 ]\n"
     ]
    }
   ],
   "source": [
    "#problem 2\n",
    "x = [6.0]\n",
    "#print(W.shape)\n",
    "print(predict(x,W))\n",
    "\n",
    "x= [4.5]\n",
    "print(predict(x,W))\n",
    "\n",
    "x= [1.5,5.5,7.5]\n",
    "print(predict(x,W))\n",
    "\n",
    "x= [1,2,3,4,5]\n",
    "print(predict(x,W))\n",
    "print(\"accuracy\", ((predict(x,W)/y_data)*100).numpy())\n"
   ]
  },
  {
   "cell_type": "code",
   "execution_count": null,
   "id": "488870fa",
   "metadata": {},
   "outputs": [],
   "source": []
  },
  {
   "cell_type": "code",
   "execution_count": null,
   "id": "fad87a22",
   "metadata": {},
   "outputs": [],
   "source": []
  },
  {
   "cell_type": "code",
   "execution_count": 63,
   "id": "b3ccc20a",
   "metadata": {},
   "outputs": [
    {
     "name": "stdout",
     "output_type": "stream",
     "text": [
      "W = [10.221252]\n",
      "b = [1.3376045]\n",
      "    0 |    12.8323 |     2.3442 |  2796.811279\n",
      "  100 |    15.3173 |    27.0330 |  614.970398\n",
      "  200 |    10.9169 |    42.9198 |  339.228058\n",
      "  300 |     7.7807 |    54.2426 |  199.159912\n",
      "  400 |     5.5454 |    62.3125 |  128.009796\n",
      "  500 |     3.9523 |    68.0641 |  91.868050\n",
      "  600 |     2.8169 |    72.1634 |  73.509033\n",
      "  700 |     2.0076 |    75.0851 |  64.183182\n",
      "  800 |     1.4309 |    77.1674 |  59.446129\n",
      "  900 |     1.0198 |    78.6514 |  57.039806\n",
      " 1000 |     0.7268 |    79.7092 |  55.817459\n",
      " 1100 |     0.5180 |    80.4630 |  55.196575\n",
      " 1200 |     0.3692 |    81.0003 |  54.881176\n",
      " 1300 |     0.2631 |    81.3833 |  54.720959\n",
      " 1400 |     0.1876 |    81.6562 |  54.639584\n",
      " 1500 |     0.1337 |    81.8507 |  54.598240\n",
      " 1600 |     0.0953 |    81.9894 |  54.577236\n",
      " 1700 |     0.0679 |    82.0882 |  54.566570\n",
      " 1800 |     0.0484 |    82.1586 |  54.561150\n",
      " 1900 |     0.0345 |    82.2088 |  54.558399\n",
      " 2000 |     0.0246 |    82.2446 |  54.556999\n",
      " 2100 |     0.0175 |    82.2701 |  54.556290\n",
      " 2200 |     0.0125 |    82.2882 |  54.555927\n",
      " 2300 |     0.0089 |    82.3012 |  54.555744\n",
      " 2400 |     0.0064 |    82.3104 |  54.555649\n",
      " 2500 |     0.0045 |    82.3170 |  54.555607\n",
      " 2600 |     0.0032 |    82.3216 |  54.555580\n",
      " 2700 |     0.0023 |    82.3250 |  54.555565\n",
      " 2800 |     0.0017 |    82.3274 |  54.555561\n",
      " 2900 |     0.0012 |    82.3290 |  54.555557\n",
      " 3000 |     0.0009 |    82.3302 |  54.555553\n",
      " 3100 |     0.0006 |    82.3310 |  54.555557\n",
      " 3200 |     0.0004 |    82.3318 |  54.555557\n",
      " 3300 |     0.0003 |    82.3323 |  54.555557\n",
      " 3400 |     0.0003 |    82.3323 |  54.555553\n",
      " 3500 |     0.0003 |    82.3323 |  54.555553\n",
      " 3600 |     0.0003 |    82.3323 |  54.555553\n",
      " 3700 |     0.0003 |    82.3323 |  54.555553\n",
      " 3800 |     0.0003 |    82.3323 |  54.555553\n",
      " 3900 |     0.0003 |    82.3323 |  54.555553\n",
      " 4000 |     0.0003 |    82.3323 |  54.555553\n",
      " 4100 |     0.0003 |    82.3323 |  54.555553\n",
      " 4200 |     0.0003 |    82.3323 |  54.555553\n",
      " 4300 |     0.0003 |    82.3323 |  54.555553\n",
      " 4400 |     0.0003 |    82.3323 |  54.555553\n",
      " 4500 |     0.0003 |    82.3323 |  54.555553\n",
      " 4600 |     0.0003 |    82.3323 |  54.555553\n",
      " 4700 |     0.0003 |    82.3323 |  54.555553\n",
      " 4800 |     0.0003 |    82.3323 |  54.555553\n",
      " 4900 |     0.0003 |    82.3323 |  54.555553\n",
      " 5000 |     0.0003 |    82.3323 |  54.555553\n"
     ]
    }
   ],
   "source": [
    "tf.random.set_seed(0)\n",
    "\n",
    "x_data = [1, 2, 3, 4, 5]\n",
    "y_data = [1.1, 2.2, 3.3, 4.4, 5.5]\n",
    "\n",
    "W = tf.Variable(tf.random.normal((1,),-20., 20)) \n",
    "print('W =', W.numpy())\n",
    "b = tf.Variable(tf.random.normal((1,),-20., 20)) \n",
    "print('b =', b.numpy())\n",
    "learning_rate = 0.01\n",
    "optimizer = tf.keras.optimizers.SGD(learning_rate) \n",
    "\n",
    "\n",
    "def predict(x,w):\n",
    "    return ((x*W) + b)\n",
    "\n",
    "for i in range(5100):\n",
    "    with tf.GradientTape() as tape: \n",
    "        hypothesis = W * x_data + b\n",
    "        cost = tf.reduce_mean(tf.square(hypothesis - Y))\n",
    "        \n",
    "    grad = tape.gradient(cost, [W,b]) \n",
    "    optimizer.apply_gradients(zip(grad, [W,b]))\n",
    "    \n",
    "    if i % 100 == 0: \n",
    "        print(\"{:5} | {:10.4f} | {:10.4f} | {: 10.6f}\".format(i, W.numpy()[0], b.numpy()[0], cost)) \n",
    "        \n",
    "\n",
    "\n",
    "#plt.plot(x_data, y_data, 'o')\n",
    "#plt.plot(x_data, hypothesis, 'r-')"
   ]
  },
  {
   "cell_type": "code",
   "execution_count": 64,
   "id": "5ae7671a",
   "metadata": {
    "scrolled": true
   },
   "outputs": [
    {
     "name": "stdout",
     "output_type": "stream",
     "text": [
      "tf.Tensor([82.334], shape=(1,), dtype=float32)\n",
      "tf.Tensor([82.33357], shape=(1,), dtype=float32)\n",
      "tf.Tensor([82.33272  82.333855 82.33443 ], shape=(3,), dtype=float32)\n",
      "tf.Tensor([82.33257  82.33286  82.333145 82.33343  82.33371 ], shape=(5,), dtype=float32)\n",
      "accuracy [7484.7793 3742.4026 2494.9438 1871.2144 1496.9766]\n"
     ]
    }
   ],
   "source": [
    "#problem 2\n",
    "x = [6.0]\n",
    "#print(W.shape)\n",
    "print(predict(x,W))\n",
    "\n",
    "x= [4.5]\n",
    "print(predict(x,W))\n",
    "\n",
    "x= [1.5,5.5,7.5]\n",
    "print(predict(x,W))\n",
    "\n",
    "\n",
    "x= [1,2,3,4,5]\n",
    "print(predict(x,W))\n",
    "print(\"accuracy\", ((predict(x,W)/y_data)*100).numpy())\n"
   ]
  },
  {
   "cell_type": "code",
   "execution_count": null,
   "id": "ba8043bf",
   "metadata": {},
   "outputs": [],
   "source": []
  },
  {
   "cell_type": "code",
   "execution_count": 65,
   "id": "e453527f",
   "metadata": {},
   "outputs": [
    {
     "name": "stdout",
     "output_type": "stream",
     "text": [
      "W = [[ 10.221252]\n",
      " [-11.541559]\n",
      " [-28.393898]\n",
      " [-40.720745]\n",
      " [-44.736557]]\n",
      "b = [1.3376045]\n",
      "    0 |  84579544.000000\n",
      "  100 |  158183.140625\n",
      "  200 |  88601.437500\n",
      "  300 |  50169.761719\n",
      "  400 |  28818.986328\n",
      "  500 |  16863.636719\n",
      "  600 |  10098.305664\n",
      "  700 |  6216.644531\n",
      "  800 |  3949.816650\n",
      "  900 |  2596.759277\n",
      " 1000 |  1767.865845\n",
      " 1100 |  1244.905884\n",
      " 1200 |  904.375916\n",
      " 1300 |  675.423401\n",
      " 1400 |  516.701843\n",
      " 1500 |  403.568359\n",
      " 1600 |  320.965240\n",
      " 1700 |  259.428680\n",
      " 1800 |  212.831253\n",
      " 1900 |  177.080566\n",
      " 2000 |  149.364044\n"
     ]
    }
   ],
   "source": [
    "tf.random.set_seed(0)\n",
    "        #x1 x2 x3 x4 x5 y\n",
    "data = np.array( \n",
    "        [[75,88,72,87,73,87],\n",
    "        [65,75,85,68,83,76],\n",
    "        [98,85,95,90,89,90],\n",
    "        [57,67,78,85,79,87],\n",
    "        [87,78,84,79,82,85],\n",
    "        [74,85,65,59,61,69]],dtype=np.float32)\n",
    "\n",
    "X = data[:, :-1]\n",
    "Y = data[:, [-1]]\n",
    "\n",
    "\n",
    "W = tf.Variable(tf.random.normal((5,1),-20., 20)) \n",
    "print('W =', W.numpy())\n",
    "b = tf.Variable(tf.random.normal((1,),-20., 20)) \n",
    "print('b =', b.numpy())\n",
    "learning_rate = 0.00001\n",
    "optimizer = tf.keras.optimizers.SGD(learning_rate) \n",
    "\n",
    "\n",
    "def predict(X):\n",
    "    return tf.matmul(X, W) + b \n",
    "\n",
    "\n",
    "for i in range(2100):\n",
    "    with tf.GradientTape() as tape: \n",
    "        hypothesis =tf.matmul(X,W) + b\n",
    "        cost = tf.reduce_mean(tf.square(hypothesis - Y))\n",
    "        \n",
    "    W_grad, b_grad = tape.gradient(cost, [W, b]) \n",
    "    W.assign_sub(learning_rate * W_grad)     \n",
    "    b.assign_sub(learning_rate * b_grad)\n",
    "    \n",
    "    if i % 100 == 0: \n",
    "        print(\"{:5} | {: 10.6f}\".format(i, cost)) \n",
    "        \n",
    "\n",
    "\n",
    "#plt.plot(X, Y, 'o')\n",
    "#plt.plot(X, predict(X), 'r-')"
   ]
  },
  {
   "cell_type": "code",
   "execution_count": 66,
   "id": "eeb2657c",
   "metadata": {},
   "outputs": [
    {
     "data": {
      "text/plain": [
       "(6, 5)"
      ]
     },
     "execution_count": 66,
     "metadata": {},
     "output_type": "execute_result"
    }
   ],
   "source": [
    "X.shape"
   ]
  },
  {
   "cell_type": "code",
   "execution_count": 67,
   "id": "13985cd0",
   "metadata": {},
   "outputs": [
    {
     "data": {
      "text/plain": [
       "array([1.7499673], dtype=float32)"
      ]
     },
     "execution_count": 67,
     "metadata": {},
     "output_type": "execute_result"
    }
   ],
   "source": [
    "b.numpy()"
   ]
  },
  {
   "cell_type": "code",
   "execution_count": 68,
   "id": "cb160dd0",
   "metadata": {},
   "outputs": [
    {
     "data": {
      "text/plain": [
       "<tf.Tensor: shape=(6, 1), dtype=float32, numpy=\n",
       "array([[ 79.97952 ],\n",
       "       [ 65.99332 ],\n",
       "       [113.81256 ],\n",
       "       [ 83.01843 ],\n",
       "       [ 82.3006  ],\n",
       "       [ 63.845577]], dtype=float32)>"
      ]
     },
     "execution_count": 68,
     "metadata": {},
     "output_type": "execute_result"
    }
   ],
   "source": [
    "tf.matmul(X,W)+b"
   ]
  },
  {
   "cell_type": "code",
   "execution_count": 69,
   "id": "a14425a2",
   "metadata": {},
   "outputs": [
    {
     "data": {
      "text/plain": [
       "array([[87.],\n",
       "       [76.],\n",
       "       [90.],\n",
       "       [87.],\n",
       "       [85.],\n",
       "       [69.]], dtype=float32)"
      ]
     },
     "execution_count": 69,
     "metadata": {},
     "output_type": "execute_result"
    }
   ],
   "source": [
    "Y"
   ]
  },
  {
   "cell_type": "code",
   "execution_count": 70,
   "id": "7272ce82",
   "metadata": {},
   "outputs": [
    {
     "name": "stdout",
     "output_type": "stream",
     "text": [
      "[[169.21179]]\n",
      "accuracy [[194.4963]\n",
      " [222.6471]\n",
      " [188.0131]\n",
      " [194.4963]\n",
      " [199.0727]\n",
      " [245.2345]]\n"
     ]
    }
   ],
   "source": [
    "X=np.array([[80,80,95,92,79]],dtype=np.float32)\n",
    "\n",
    "print(predict(X).numpy())\n",
    "print(\"accuracy\", ((predict(X)/Y)*100).numpy())"
   ]
  },
  {
   "cell_type": "code",
   "execution_count": 71,
   "id": "982ddab7",
   "metadata": {},
   "outputs": [
    {
     "name": "stdout",
     "output_type": "stream",
     "text": [
      "[[103.56848]]\n",
      "accuracy [[119.044235]\n",
      " [136.2743  ]\n",
      " [115.07609 ]\n",
      " [119.044235]\n",
      " [121.84527 ]\n",
      " [150.09926 ]]\n"
     ]
    }
   ],
   "source": [
    "X=np.array([[75, 85, 95, 77, 87]] ,dtype=np.float32)\n",
    "\n",
    "print(predict(X).numpy())\n",
    "print(\"accuracy\", ((predict(X)/Y)*100).numpy())"
   ]
  },
  {
   "cell_type": "code",
   "execution_count": 72,
   "id": "9a3eef2c",
   "metadata": {},
   "outputs": [
    {
     "data": {
      "text/plain": [
       "array([[108.267426],\n",
       "       [ 57.764034]], dtype=float32)"
      ]
     },
     "execution_count": 72,
     "metadata": {},
     "output_type": "execute_result"
    }
   ],
   "source": [
    "X=np.array([[70, 70, 90, 85, 85], [85, 95, 88, 84, 91]] ,dtype=np.float32)\n",
    "\n",
    "predict(X).numpy()\n",
    "#print(\"accuracy\", ((predict(X)/Y)*100).numpy())"
   ]
  },
  {
   "cell_type": "code",
   "execution_count": null,
   "id": "c6201183",
   "metadata": {},
   "outputs": [],
   "source": []
  },
  {
   "cell_type": "code",
   "execution_count": null,
   "id": "c13751e7",
   "metadata": {},
   "outputs": [],
   "source": []
  },
  {
   "cell_type": "code",
   "execution_count": 73,
   "id": "c5990c9f",
   "metadata": {},
   "outputs": [
    {
     "name": "stdout",
     "output_type": "stream",
     "text": [
      "W = [[ 10.221252]\n",
      " [-11.541559]\n",
      " [-28.393898]\n",
      " [-40.720745]\n",
      " [-44.736557]]\n",
      "b = [1.3376045]\n",
      "    0 |  84579544.000000\n",
      "  100 |  229296.859375\n",
      "  200 |  143048.890625\n",
      "  300 |  77548.968750\n",
      "  400 |  37302.382812\n",
      "  500 |  16381.784180\n",
      "  600 |  6835.895996\n",
      "  700 |  2866.909424\n",
      "  800 |  1281.776978\n",
      "  900 |  629.663391\n",
      " 1000 |  336.770660\n",
      " 1100 |  192.373535\n",
      " 1200 |  117.242424\n",
      " 1300 |  77.625313\n",
      " 1400 |  56.905487\n",
      " 1500 |  46.219570\n",
      " 1600 |  40.759033\n",
      " 1700 |  37.950840\n",
      " 1800 |  36.447124\n",
      " 1900 |  35.560062\n",
      " 2000 |  34.948078\n",
      " 2100 |  34.448048\n",
      " 2200 |  33.984161\n",
      " 2300 |  33.523781\n",
      " 2400 |  33.052700\n",
      " 2500 |  32.565826\n",
      " 2600 |  32.061375\n",
      " 2700 |  31.537918\n",
      " 2800 |  30.995964\n",
      " 2900 |  30.435259\n",
      " 3000 |  29.856268\n",
      " 3100 |  29.258768\n",
      " 3200 |  28.643328\n",
      " 3300 |  28.010080\n",
      " 3400 |  27.359922\n",
      " 3500 |  26.692976\n",
      " 3600 |  26.010157\n",
      " 3700 |  25.312042\n",
      " 3800 |  24.599457\n",
      " 3900 |  23.873924\n",
      " 4000 |  23.135714\n",
      " 4100 |  22.386520\n",
      " 4200 |  21.627655\n",
      " 4300 |  20.860380\n",
      " 4400 |  20.086605\n",
      " 4500 |  19.307783\n",
      " 4600 |  18.525721\n",
      " 4700 |  17.742481\n",
      " 4800 |  16.960102\n",
      " 4900 |  16.180468\n",
      " 5000 |  15.405979\n"
     ]
    }
   ],
   "source": [
    "tf.random.set_seed(0)\n",
    "        #x1 x2 x3 x4 x5 y\n",
    "data = np.array( \n",
    "        [[75,88,72,87,73,87],\n",
    "        [65,75,85,68,83,76],\n",
    "        [98,85,95,90,89,90],\n",
    "        [57,67,78,85,79,87],\n",
    "        [87,78,84,79,82,85],\n",
    "        [74,85,65,59,61,69]],dtype=np.float32)\n",
    "\n",
    "X = data[:, :-1]\n",
    "Y = data[:, [-1]]\n",
    "\n",
    "\n",
    "W = tf.Variable(tf.random.normal((5,1),-20., 20)) \n",
    "print('W =', W.numpy())\n",
    "b = tf.Variable(tf.random.normal((1,),-20., 20)) \n",
    "print('b =', b.numpy())\n",
    "learning_rate = 2\n",
    "optimizer = tf.keras.optimizers.Adam(learning_rate) \n",
    "\n",
    "\n",
    "def predict(X):\n",
    "    return tf.matmul(X, W) + b \n",
    "\n",
    "\n",
    "for i in range(5100):\n",
    "    with tf.GradientTape() as tape:\n",
    "        cost = tf.reduce_mean(tf.square(predict(X) - Y)) \n",
    "        \n",
    "    grads = tape.gradient(cost, [W])\n",
    "    optimizer.apply_gradients(grads_and_vars = zip(grads,[W]))\n",
    "    \n",
    "    if i % 100 == 0: \n",
    "        print(\"{:5} | {: 10.6f}\".format(i, cost)) "
   ]
  },
  {
   "cell_type": "code",
   "execution_count": 74,
   "id": "a3e5b408",
   "metadata": {},
   "outputs": [
    {
     "name": "stdout",
     "output_type": "stream",
     "text": [
      "[[127.30972]]\n",
      "accuracy [[146.33301]\n",
      " [167.5128 ]\n",
      " [141.45525]\n",
      " [146.33301]\n",
      " [149.77615]\n",
      " [184.50685]]\n"
     ]
    }
   ],
   "source": [
    "X=np.array([[80,80,95,92,79]],dtype=np.float32)\n",
    "\n",
    "print(predict(X).numpy())\n",
    "\n",
    "print(\"accuracy\", ((predict(X)/Y)*100).numpy())"
   ]
  },
  {
   "cell_type": "code",
   "execution_count": 75,
   "id": "8bcebcdc",
   "metadata": {},
   "outputs": [
    {
     "name": "stdout",
     "output_type": "stream",
     "text": [
      "[[98.88475]]\n",
      "accuracy [[113.66064]\n",
      " [130.11151]\n",
      " [109.87195]\n",
      " [113.66064]\n",
      " [116.335  ]\n",
      " [143.31123]]\n"
     ]
    }
   ],
   "source": [
    "X=np.array([[75, 85, 95, 77, 87]] ,dtype=np.float32)\n",
    "\n",
    "print(predict(X).numpy())\n",
    "print(\"accuracy\", ((predict(X)/Y)*100).numpy())"
   ]
  },
  {
   "cell_type": "code",
   "execution_count": 76,
   "id": "1bac4df0",
   "metadata": {},
   "outputs": [
    {
     "data": {
      "text/plain": [
       "array([[96.409744],\n",
       "       [78.850464]], dtype=float32)"
      ]
     },
     "execution_count": 76,
     "metadata": {},
     "output_type": "execute_result"
    }
   ],
   "source": [
    "X=np.array([[70, 70, 90, 85, 85], [85, 95, 88, 84, 91]] ,dtype=np.float32)\n",
    "\n",
    "predict(X).numpy()\n",
    "#print(\"accuracy\", ((predict(X)/Y)*100).numpy())"
   ]
  },
  {
   "cell_type": "code",
   "execution_count": null,
   "id": "aad340bf",
   "metadata": {},
   "outputs": [],
   "source": []
  }
 ],
 "metadata": {
  "kernelspec": {
   "display_name": "Python 3 (ipykernel)",
   "language": "python",
   "name": "python3"
  },
  "language_info": {
   "codemirror_mode": {
    "name": "ipython",
    "version": 3
   },
   "file_extension": ".py",
   "mimetype": "text/x-python",
   "name": "python",
   "nbconvert_exporter": "python",
   "pygments_lexer": "ipython3",
   "version": "3.11.5"
  }
 },
 "nbformat": 4,
 "nbformat_minor": 5
}
